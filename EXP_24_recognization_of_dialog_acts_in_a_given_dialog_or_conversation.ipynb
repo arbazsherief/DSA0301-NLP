{
  "nbformat": 4,
  "nbformat_minor": 0,
  "metadata": {
    "colab": {
      "provenance": [],
      "authorship_tag": "ABX9TyOdkYA7LTnmNNAy/jzHMSrv",
      "include_colab_link": true
    },
    "kernelspec": {
      "name": "python3",
      "display_name": "Python 3"
    },
    "language_info": {
      "name": "python"
    }
  },
  "cells": [
    {
      "cell_type": "markdown",
      "metadata": {
        "id": "view-in-github",
        "colab_type": "text"
      },
      "source": [
        "<a href=\"https://colab.research.google.com/github/arbazsherief/DSA0301-NLP/blob/main/EXP_24_recognization_of_dialog_acts_in_a_given_dialog_or_conversation.ipynb\" target=\"_parent\"><img src=\"https://colab.research.google.com/assets/colab-badge.svg\" alt=\"Open In Colab\"/></a>"
      ]
    },
    {
      "cell_type": "code",
      "source": [
        "import re\n",
        "\n",
        "def recognize_dialog_acts(text):\n",
        "\n",
        "    statements = re.compile(r'^[^?!.]*[.?!]$')\n",
        "    questions = re.compile(r'.*\\?$')\n",
        "    greetings = re.compile(r'(hello|hi|hey).*', re.IGNORECASE)\n",
        "    requests = re.compile(r'(please|can you|could you).*', re.IGNORECASE)\n",
        "\n",
        "    utterances = re.split(r'[.?!]', text)\n",
        "\n",
        "    dialog_acts = []\n",
        "    for utterance in utterances:\n",
        "        utterance = utterance.strip()\n",
        "        if re.match(statements, utterance):\n",
        "            dialog_acts.append((utterance, 'Statement'))\n",
        "        elif re.match(questions, utterance):\n",
        "            dialog_acts.append((utterance, 'Question'))\n",
        "        elif re.match(greetings, utterance):\n",
        "            dialog_acts.append((utterance, 'Greeting'))\n",
        "        elif re.match(requests, utterance):\n",
        "            dialog_acts.append((utterance, 'Request'))\n",
        "        else:\n",
        "            dialog_acts.append((utterance, 'Other'))\n",
        "\n",
        "    return dialog_acts\n",
        "\n",
        "conversation = \"Hi! How are you? I'm fine, thank you. Can you pass the salt, please?\"\n",
        "\n",
        "recognized_acts = recognize_dialog_acts(conversation)\n",
        "for utterance, act_type in recognized_acts:\n",
        "    print(f\"Utterance: '{utterance}', Dialog Act: {act_type}\")\n"
      ],
      "metadata": {
        "colab": {
          "base_uri": "https://localhost:8080/"
        },
        "id": "sMY7HygwNJZD",
        "outputId": "5dbe2465-2941-4e27-c65c-693778f8d6d0"
      },
      "execution_count": 4,
      "outputs": [
        {
          "output_type": "stream",
          "name": "stdout",
          "text": [
            "Utterance: 'Hi', Dialog Act: Greeting\n",
            "Utterance: 'How are you', Dialog Act: Other\n",
            "Utterance: 'I'm fine, thank you', Dialog Act: Other\n",
            "Utterance: 'Can you pass the salt, please', Dialog Act: Request\n",
            "Utterance: '', Dialog Act: Other\n"
          ]
        }
      ]
    }
  ]
}