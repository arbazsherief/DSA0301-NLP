{
  "nbformat": 4,
  "nbformat_minor": 0,
  "metadata": {
    "colab": {
      "provenance": [],
      "authorship_tag": "ABX9TyMyzJJf4qYnPjAfIrw2Szm3",
      "include_colab_link": true
    },
    "kernelspec": {
      "name": "python3",
      "display_name": "Python 3"
    },
    "language_info": {
      "name": "python"
    }
  },
  "cells": [
    {
      "cell_type": "markdown",
      "metadata": {
        "id": "view-in-github",
        "colab_type": "text"
      },
      "source": [
        "<a href=\"https://colab.research.google.com/github/arbazsherief/DSA0301-NLP/blob/main/EXP_21_syntax_driven_semantic_analysis_by_extracting_noun_phrases_and_their_meanings_from_a_sentence.ipynb\" target=\"_parent\"><img src=\"https://colab.research.google.com/assets/colab-badge.svg\" alt=\"Open In Colab\"/></a>"
      ]
    },
    {
      "cell_type": "code",
      "execution_count": 4,
      "metadata": {
        "colab": {
          "base_uri": "https://localhost:8080/"
        },
        "id": "Ng9wFg4QHuoT",
        "outputId": "2649c528-a921-48b7-e926-f9bad43972d2"
      },
      "outputs": [
        {
          "output_type": "stream",
          "name": "stdout",
          "text": [
            "Requirement already satisfied: nltk in /usr/local/lib/python3.10/dist-packages (3.8.1)\n",
            "Requirement already satisfied: click in /usr/local/lib/python3.10/dist-packages (from nltk) (8.1.7)\n",
            "Requirement already satisfied: joblib in /usr/local/lib/python3.10/dist-packages (from nltk) (1.3.2)\n",
            "Requirement already satisfied: regex>=2021.8.3 in /usr/local/lib/python3.10/dist-packages (from nltk) (2023.6.3)\n",
            "Requirement already satisfied: tqdm in /usr/local/lib/python3.10/dist-packages (from nltk) (4.66.1)\n"
          ]
        }
      ],
      "source": [
        "pip install nltk"
      ]
    },
    {
      "cell_type": "code",
      "source": [
        "import nltk\n",
        "nltk.download('punkt')\n",
        "nltk.download('averaged_perceptron_tagger')\n",
        "nltk.download('wordnet')"
      ],
      "metadata": {
        "colab": {
          "base_uri": "https://localhost:8080/"
        },
        "id": "DLswloboIS9E",
        "outputId": "54cd1d8b-da51-4616-fdf0-e1d1a9d8d077"
      },
      "execution_count": 9,
      "outputs": [
        {
          "output_type": "stream",
          "name": "stderr",
          "text": [
            "[nltk_data] Downloading package punkt to /root/nltk_data...\n",
            "[nltk_data]   Package punkt is already up-to-date!\n",
            "[nltk_data] Downloading package averaged_perceptron_tagger to\n",
            "[nltk_data]     /root/nltk_data...\n",
            "[nltk_data]   Package averaged_perceptron_tagger is already up-to-\n",
            "[nltk_data]       date!\n",
            "[nltk_data] Downloading package wordnet to /root/nltk_data...\n"
          ]
        },
        {
          "output_type": "execute_result",
          "data": {
            "text/plain": [
              "True"
            ]
          },
          "metadata": {},
          "execution_count": 9
        }
      ]
    },
    {
      "cell_type": "code",
      "source": [
        "import nltk\n",
        "from nltk.corpus import wordnet\n",
        "\n",
        "sentence = \"The quick brown fox jumps over the lazy dog\"\n",
        "\n",
        "tokens = nltk.word_tokenize(sentence)\n",
        "tagged_tokens = nltk.pos_tag(tokens)\n",
        "\n",
        "grammar = r\"NP: {<DT>?<JJ>*<NN>}\"\n",
        "chunk_parser = nltk.RegexpParser(grammar)\n",
        "tree = chunk_parser.parse(tagged_tokens)\n",
        "\n",
        "noun_phrases = []\n",
        "for subtree in tree.subtrees():\n",
        "    if subtree.label() == 'NP':\n",
        "        noun_phrase_words = [word for word, tag in subtree.leaves()]\n",
        "        noun_phrases.append(' '.join(noun_phrase_words))\n",
        "\n",
        "def get_meanings(noun_phrase):\n",
        "    synsets = wordnet.synsets(noun_phrase)\n",
        "    meanings = []\n",
        "    for synset in synsets:\n",
        "        meanings.append({\n",
        "            \"Name\": synset.name(),\n",
        "            \"Definition\": synset.definition(),\n",
        "            \"Examples\": synset.examples()\n",
        "        })\n",
        "    return meanings\n",
        "\n",
        "noun_phrase_meanings = {}\n",
        "for noun_phrase in noun_phrases:\n",
        "    meanings = get_meanings(noun_phrase)\n",
        "    noun_phrase_meanings[noun_phrase] = meanings\n",
        "\n",
        "for noun_phrase, meanings in noun_phrase_meanings.items():\n",
        "    print(f\"Noun Phrase: '{noun_phrase}'\")\n",
        "    for meaning in meanings:\n",
        "        print(f\"\\tSynset: {meaning['Name']}\")\n",
        "        print(f\"\\tDefinition: {meaning['Definition']}\")\n",
        "        if meaning['Examples']:\n",
        "            print(f\"\\tExample: {', '.join(meaning['Examples'])}\")\n",
        "    print(\"\\n\")\n"
      ],
      "metadata": {
        "colab": {
          "base_uri": "https://localhost:8080/"
        },
        "id": "6RlZTTq9H2OS",
        "outputId": "4cde7356-d8c9-4523-aa57-617387419136"
      },
      "execution_count": 12,
      "outputs": [
        {
          "output_type": "stream",
          "name": "stdout",
          "text": [
            "Noun Phrase: 'The quick brown'\n",
            "\n",
            "\n",
            "Noun Phrase: 'fox'\n",
            "\tSynset: fox.n.01\n",
            "\tDefinition: alert carnivorous mammal with pointed muzzle and ears and a bushy tail; most are predators that do not hunt in packs\n",
            "\tSynset: dodger.n.01\n",
            "\tDefinition: a shifty deceptive person\n",
            "\tSynset: fox.n.03\n",
            "\tDefinition: the grey or reddish-brown fur of a fox\n",
            "\tSynset: fox.n.04\n",
            "\tDefinition: English statesman who supported American independence and the French Revolution (1749-1806)\n",
            "\tSynset: fox.n.05\n",
            "\tDefinition: English religious leader who founded the Society of Friends (1624-1691)\n",
            "\tSynset: fox.n.06\n",
            "\tDefinition: a member of an Algonquian people formerly living west of Lake Michigan along the Fox River\n",
            "\tSynset: fox.n.07\n",
            "\tDefinition: the Algonquian language of the Fox\n",
            "\tSynset: flim-flam.v.01\n",
            "\tDefinition: deceive somebody\n",
            "\tExample: We tricked the teacher into thinking that class would be cancelled next week\n",
            "\tSynset: confuse.v.02\n",
            "\tDefinition: be confusing or perplexing to; cause to be unable to think clearly\n",
            "\tExample: These questions confuse even the experts, This question completely threw me, This question befuddled even the teacher\n",
            "\tSynset: fox.v.03\n",
            "\tDefinition: become discolored with, or as if with, mildew spots\n",
            "\n",
            "\n",
            "Noun Phrase: 'the lazy dog'\n",
            "\n",
            "\n"
          ]
        }
      ]
    }
  ]
}