{
  "nbformat": 4,
  "nbformat_minor": 0,
  "metadata": {
    "colab": {
      "provenance": [],
      "authorship_tag": "ABX9TyPEgyahzd0QHQQBwbtkfYVu",
      "include_colab_link": true
    },
    "kernelspec": {
      "name": "python3",
      "display_name": "Python 3"
    },
    "language_info": {
      "name": "python"
    }
  },
  "cells": [
    {
      "cell_type": "markdown",
      "metadata": {
        "id": "view-in-github",
        "colab_type": "text"
      },
      "source": [
        "<a href=\"https://colab.research.google.com/github/arbazsherief/DSA0301-NLP/blob/main/Context%20free%20grammer%20.ipynb\" target=\"_parent\"><img src=\"https://colab.research.google.com/assets/colab-badge.svg\" alt=\"Open In Colab\"/></a>"
      ]
    },
    {
      "cell_type": "code",
      "execution_count": 1,
      "metadata": {
        "colab": {
          "base_uri": "https://localhost:8080/"
        },
        "id": "PZosSwHWr0M6",
        "outputId": "c54b9e74-bf8c-4317-fecc-7337b6526ba7"
      },
      "outputs": [
        {
          "output_type": "stream",
          "name": "stdout",
          "text": [
            "Requirement already satisfied: nltk in /usr/local/lib/python3.10/dist-packages (3.8.1)\n",
            "Requirement already satisfied: click in /usr/local/lib/python3.10/dist-packages (from nltk) (8.1.7)\n",
            "Requirement already satisfied: joblib in /usr/local/lib/python3.10/dist-packages (from nltk) (1.3.2)\n",
            "Requirement already satisfied: regex>=2021.8.3 in /usr/local/lib/python3.10/dist-packages (from nltk) (2023.6.3)\n",
            "Requirement already satisfied: tqdm in /usr/local/lib/python3.10/dist-packages (from nltk) (4.66.1)\n"
          ]
        }
      ],
      "source": [
        "pip install nltk"
      ]
    },
    {
      "cell_type": "code",
      "source": [
        "import nltk\n",
        "from nltk import CFG\n",
        "\n",
        "# Define a context-free grammar for English sentences\n",
        "grammar = CFG.fromstring(\"\"\"\n",
        "    S -> NP VP\n",
        "    NP -> Det N | Det N PP | 'I'\n",
        "    VP -> V NP | VP PP\n",
        "    PP -> P NP\n",
        "    Det -> 'the' | 'a'\n",
        "    N -> 'cat' | 'dog' | 'man' | 'park'\n",
        "    V -> 'chased' | 'saw'\n",
        "    P -> 'in' | 'on'\n",
        "\"\"\")\n",
        "\n",
        "# Create a parser using the defined grammar\n",
        "parser = nltk.ChartParser(grammar)\n",
        "\n",
        "# Input sentence to parse\n",
        "sentence = \"I saw the dog in the park\"\n",
        "\n",
        "# Tokenize the sentence\n",
        "tokens = sentence.split()\n",
        "\n",
        "# Parse the sentence\n",
        "for tree in parser.parse(tokens):\n",
        "    tree.pretty_print()\n"
      ],
      "metadata": {
        "colab": {
          "base_uri": "https://localhost:8080/"
        },
        "id": "xj4nsKesr_hX",
        "outputId": "9d5b863b-f64e-427e-ccce-ec9d16d6f342"
      },
      "execution_count": 2,
      "outputs": [
        {
          "output_type": "stream",
          "name": "stdout",
          "text": [
            "     S                              \n",
            "  ___|___________                    \n",
            " |               VP                 \n",
            " |        _______|_______            \n",
            " |       VP              PP         \n",
            " |    ___|___         ___|___        \n",
            " |   |       NP      |       NP     \n",
            " |   |    ___|___    |    ___|___    \n",
            " NP  V  Det      N   P  Det      N  \n",
            " |   |   |       |   |   |       |   \n",
            " I  saw the     dog  in the     park\n",
            "\n",
            "     S                          \n",
            "  ___|_______                    \n",
            " |           VP                 \n",
            " |    _______|___                \n",
            " |   |           NP             \n",
            " |   |    _______|___            \n",
            " |   |   |   |       PP         \n",
            " |   |   |   |    ___|___        \n",
            " |   |   |   |   |       NP     \n",
            " |   |   |   |   |    ___|___    \n",
            " NP  V  Det  N   P  Det      N  \n",
            " |   |   |   |   |   |       |   \n",
            " I  saw the dog  in the     park\n",
            "\n"
          ]
        }
      ]
    }
  ]
}