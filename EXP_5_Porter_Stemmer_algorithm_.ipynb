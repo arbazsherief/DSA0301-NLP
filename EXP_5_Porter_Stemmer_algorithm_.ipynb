{
  "nbformat": 4,
  "nbformat_minor": 0,
  "metadata": {
    "colab": {
      "provenance": [],
      "authorship_tag": "ABX9TyPXj08YcrQu8TwmWONL8NPg",
      "include_colab_link": true
    },
    "kernelspec": {
      "name": "python3",
      "display_name": "Python 3"
    },
    "language_info": {
      "name": "python"
    }
  },
  "cells": [
    {
      "cell_type": "markdown",
      "metadata": {
        "id": "view-in-github",
        "colab_type": "text"
      },
      "source": [
        "<a href=\"https://colab.research.google.com/github/arbazsherief/DSA0301-NLP/blob/main/EXP_5_Porter_Stemmer_algorithm_.ipynb\" target=\"_parent\"><img src=\"https://colab.research.google.com/assets/colab-badge.svg\" alt=\"Open In Colab\"/></a>"
      ]
    },
    {
      "cell_type": "code",
      "execution_count": 1,
      "metadata": {
        "colab": {
          "base_uri": "https://localhost:8080/"
        },
        "id": "rFFW7ePXcgn0",
        "outputId": "dce3d453-1f25-4602-9953-a2a55b4b0cba"
      },
      "outputs": [
        {
          "output_type": "stream",
          "name": "stdout",
          "text": [
            "Requirement already satisfied: nltk in /usr/local/lib/python3.10/dist-packages (3.8.1)\n",
            "Requirement already satisfied: click in /usr/local/lib/python3.10/dist-packages (from nltk) (8.1.7)\n",
            "Requirement already satisfied: joblib in /usr/local/lib/python3.10/dist-packages (from nltk) (1.3.2)\n",
            "Requirement already satisfied: regex>=2021.8.3 in /usr/local/lib/python3.10/dist-packages (from nltk) (2023.6.3)\n",
            "Requirement already satisfied: tqdm in /usr/local/lib/python3.10/dist-packages (from nltk) (4.66.1)\n"
          ]
        }
      ],
      "source": [
        "pip install nltk"
      ]
    },
    {
      "cell_type": "code",
      "source": [
        "import nltk"
      ],
      "metadata": {
        "id": "rR1kAVP0fOda"
      },
      "execution_count": 2,
      "outputs": []
    },
    {
      "cell_type": "code",
      "source": [
        "from nltk.stem import PorterStemmer\n",
        "\n",
        "def perform_stemming(words):\n",
        "    porter_stemmer = PorterStemmer()\n",
        "    stemmed_words = [porter_stemmer.stem(word) for word in words]\n",
        "    return stemmed_words\n",
        "\n",
        "def main():\n",
        "    words = [\"running\", \"flies\", \"happily\", \"fishing\", \"swimming\", \"jumps\"]\n",
        "\n",
        "    stemmed_words = perform_stemming(words)\n",
        "\n",
        "    print(f\"{'Original Word':<15}{'Stemmed Word':<15}\")\n",
        "    print(\"=\"*30)\n",
        "    for original, stemmed in zip(words, stemmed_words):\n",
        "        print(f\"{original:<15}{stemmed:<15}\")\n",
        "\n",
        "if __name__ == \"__main__\":\n",
        "    main()"
      ],
      "metadata": {
        "colab": {
          "base_uri": "https://localhost:8080/"
        },
        "id": "efPb-AqKfVaH",
        "outputId": "049d4946-dcd0-482c-9456-e504b5f6a2b3"
      },
      "execution_count": 4,
      "outputs": [
        {
          "output_type": "stream",
          "name": "stdout",
          "text": [
            "Original Word  Stemmed Word   \n",
            "==============================\n",
            "running        run            \n",
            "flies          fli            \n",
            "happily        happili        \n",
            "fishing        fish           \n",
            "swimming       swim           \n",
            "jumps          jump           \n"
          ]
        }
      ]
    }
  ]
}