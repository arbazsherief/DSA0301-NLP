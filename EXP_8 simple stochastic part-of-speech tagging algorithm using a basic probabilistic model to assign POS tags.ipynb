{
  "nbformat": 4,
  "nbformat_minor": 0,
  "metadata": {
    "colab": {
      "provenance": [],
      "authorship_tag": "ABX9TyM2xC+6NrhEJHmysT8qLsrX",
      "include_colab_link": true
    },
    "kernelspec": {
      "name": "python3",
      "display_name": "Python 3"
    },
    "language_info": {
      "name": "python"
    }
  },
  "cells": [
    {
      "cell_type": "markdown",
      "metadata": {
        "id": "view-in-github",
        "colab_type": "text"
      },
      "source": [
        "<a href=\"https://colab.research.google.com/github/arbazsherief/DSA0301-NLP/blob/main/EXP_8%20simple%20stochastic%20part-of-speech%20tagging%20algorithm%20using%20a%20basic%20probabilistic%20model%20to%20assign%20POS%20tags.ipynb\" target=\"_parent\"><img src=\"https://colab.research.google.com/assets/colab-badge.svg\" alt=\"Open In Colab\"/></a>"
      ]
    },
    {
      "cell_type": "code",
      "execution_count": 1,
      "metadata": {
        "colab": {
          "base_uri": "https://localhost:8080/"
        },
        "id": "dHzzDKDvI3EM",
        "outputId": "83cf7370-40a2-4a7b-cd6e-ac981fa8c65d"
      },
      "outputs": [
        {
          "output_type": "stream",
          "name": "stdout",
          "text": [
            "Requirement already satisfied: nltk in /usr/local/lib/python3.10/dist-packages (3.8.1)\n",
            "Requirement already satisfied: click in /usr/local/lib/python3.10/dist-packages (from nltk) (8.1.7)\n",
            "Requirement already satisfied: joblib in /usr/local/lib/python3.10/dist-packages (from nltk) (1.3.2)\n",
            "Requirement already satisfied: regex>=2021.8.3 in /usr/local/lib/python3.10/dist-packages (from nltk) (2023.6.3)\n",
            "Requirement already satisfied: tqdm in /usr/local/lib/python3.10/dist-packages (from nltk) (4.66.1)\n"
          ]
        }
      ],
      "source": [
        "pip install nltk"
      ]
    },
    {
      "cell_type": "code",
      "source": [
        "pip install random"
      ],
      "metadata": {
        "colab": {
          "base_uri": "https://localhost:8080/"
        },
        "id": "MkMZHLDaJryO",
        "outputId": "ed545bb9-7215-4b70-c8ee-a6ca56a83985"
      },
      "execution_count": 5,
      "outputs": [
        {
          "output_type": "stream",
          "name": "stdout",
          "text": [
            "\u001b[31mERROR: Could not find a version that satisfies the requirement random (from versions: none)\u001b[0m\u001b[31m\n",
            "\u001b[0m\u001b[31mERROR: No matching distribution found for random\u001b[0m\u001b[31m\n",
            "\u001b[0m"
          ]
        }
      ]
    },
    {
      "cell_type": "code",
      "source": [
        "import nltk\n",
        "nltk.download('grammars')\n",
        "nltk.download('brown')"
      ],
      "metadata": {
        "colab": {
          "base_uri": "https://localhost:8080/"
        },
        "id": "LZECz-GXKPtl",
        "outputId": "241537d3-fbf3-4d56-f1ae-0a060e6c824d"
      },
      "execution_count": 11,
      "outputs": [
        {
          "output_type": "stream",
          "name": "stderr",
          "text": [
            "[nltk_data] Error loading grammars: Package 'grammars' not found in\n",
            "[nltk_data]     index\n",
            "[nltk_data] Downloading package brown to /root/nltk_data...\n",
            "[nltk_data]   Unzipping corpora/brown.zip.\n"
          ]
        },
        {
          "output_type": "execute_result",
          "data": {
            "text/plain": [
              "True"
            ]
          },
          "metadata": {},
          "execution_count": 11
        }
      ]
    },
    {
      "cell_type": "code",
      "source": [
        "import nltk\n",
        "from nltk.corpus import brown\n",
        "from random import randint\n",
        "train_data = brown.tagged_sents(categories='news')\n",
        "word_tag_pairs = [(word, tag) for sentence in train_data for word, tag in sentence]\n",
        "word_tags_dict = {}\n",
        "for word, tag in word_tag_pairs:\n",
        "    if word not in word_tags_dict:\n",
        "        word_tags_dict[word] = []\n",
        "    word_tags_dict[word].append(tag)\n",
        "def stochastic_pos_tagger(sentence):\n",
        "    tagged_sentence = []\n",
        "    for word in sentence:\n",
        "        tag_list = word_tags_dict.get(word, ['NN'])\n",
        "        rand_index = randint(0, len(tag_list) - 1)\n",
        "        tagged_sentence.append((word, tag_list[rand_index]))\n",
        "    return tagged_sentence\n",
        "test_sentence = ['Implement', 'a', 'simple', 'stochastic', 'part-of-speech', 'tagging', 'algorithm', 'using', 'a', 'basic', 'probabilistic', 'model', 'to', 'assign', 'POS', 'tags', 'using', 'python']\n",
        "print(stochastic_pos_tagger(test_sentence))\n"
      ],
      "metadata": {
        "colab": {
          "base_uri": "https://localhost:8080/"
        },
        "id": "tzsf9jQxJ0wJ",
        "outputId": "ed6691e5-e8c4-49f7-bfa6-e6e6f00e3216"
      },
      "execution_count": 14,
      "outputs": [
        {
          "output_type": "stream",
          "name": "stdout",
          "text": [
            "[('Implement', 'NN'), ('a', 'AT'), ('simple', 'JJ'), ('stochastic', 'NN'), ('part-of-speech', 'NN'), ('tagging', 'NN'), ('algorithm', 'NN'), ('using', 'VBG'), ('a', 'AT'), ('basic', 'JJ'), ('probabilistic', 'NN'), ('model', 'NN'), ('to', 'TO'), ('assign', 'VB'), ('POS', 'NN'), ('tags', 'NN'), ('using', 'VBG'), ('python', 'NN')]\n"
          ]
        }
      ]
    }
  ]
}