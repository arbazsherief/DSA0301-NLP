{
  "nbformat": 4,
  "nbformat_minor": 0,
  "metadata": {
    "colab": {
      "provenance": [],
      "authorship_tag": "ABX9TyOpnVDgxnYvuLeW620+mkn5",
      "include_colab_link": true
    },
    "kernelspec": {
      "name": "python3",
      "display_name": "Python 3"
    },
    "language_info": {
      "name": "python"
    }
  },
  "cells": [
    {
      "cell_type": "markdown",
      "metadata": {
        "id": "view-in-github",
        "colab_type": "text"
      },
      "source": [
        "<a href=\"https://colab.research.google.com/github/arbazsherief/DSA0301-NLP/blob/main/EXP_4_finite_state_machine_for_morphological_parsing.ipynb\" target=\"_parent\"><img src=\"https://colab.research.google.com/assets/colab-badge.svg\" alt=\"Open In Colab\"/></a>"
      ]
    },
    {
      "cell_type": "code",
      "execution_count": 1,
      "metadata": {
        "colab": {
          "base_uri": "https://localhost:8080/"
        },
        "id": "0767laPWWNtt",
        "outputId": "2cd6241d-c06b-4c37-d5f4-882aae3669b2"
      },
      "outputs": [
        {
          "output_type": "stream",
          "name": "stdout",
          "text": [
            "Singular: dog, Plural: dogs\n",
            "Singular: cat, Plural: cats\n",
            "Singular: box, Plural: boxs\n",
            "Singular: fish, Plural: fishs\n",
            "Singular: wife, Plural: wifes\n",
            "Singular: knife, Plural: knifes\n"
          ]
        }
      ],
      "source": [
        "class PluralStateMachine:\n",
        "    def _init_(self):\n",
        "        self.state = 'start'\n",
        "\n",
        "    def transition(self, char):\n",
        "        if self.state == 'start' and char == 's':\n",
        "            self.state = 'state_s'\n",
        "        elif self.state == 'start' and char == 'i':\n",
        "            self.state = 'state_i'\n",
        "        elif self.state == 'state_i' and char == 'e':\n",
        "            self.state = 'state_ie'\n",
        "        else:\n",
        "            self.state = 'reject'\n",
        "\n",
        "    def pluralize(self, noun):\n",
        "        self.state = 'start'\n",
        "\n",
        "        for char in reversed(noun):  # Process the characters in reverse order\n",
        "            self.transition(char)\n",
        "\n",
        "        plural_form = self.process_state(noun)\n",
        "        return plural_form\n",
        "\n",
        "    def process_state(self, noun):\n",
        "        if self.state == 'state_s':\n",
        "            return noun + 'es'\n",
        "        elif self.state == 'state_ie':\n",
        "            return noun[:-2] + 'ies'\n",
        "        else:\n",
        "            return noun + 's'\n",
        "\n",
        "\n",
        "def main():\n",
        "    pluralizer = PluralStateMachine()\n",
        "\n",
        "    nouns = [\"dog\", \"cat\", \"box\", \"fish\", \"wife\", \"knife\"]\n",
        "\n",
        "    for noun in nouns:\n",
        "        plural_form = pluralizer.pluralize(noun)\n",
        "        print(f\"Singular: {noun}, Plural: {plural_form}\")\n",
        "\n",
        "if __name__ == \"__main__\":\n",
        "    main()"
      ]
    }
  ]
}