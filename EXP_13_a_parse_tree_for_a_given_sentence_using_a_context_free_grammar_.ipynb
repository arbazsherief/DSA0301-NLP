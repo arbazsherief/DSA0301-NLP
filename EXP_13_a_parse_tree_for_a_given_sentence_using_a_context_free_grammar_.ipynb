{
  "nbformat": 4,
  "nbformat_minor": 0,
  "metadata": {
    "colab": {
      "provenance": [],
      "authorship_tag": "ABX9TyNxVn+6mrTg2mnOCFd+UVsc",
      "include_colab_link": true
    },
    "kernelspec": {
      "name": "python3",
      "display_name": "Python 3"
    },
    "language_info": {
      "name": "python"
    }
  },
  "cells": [
    {
      "cell_type": "markdown",
      "metadata": {
        "id": "view-in-github",
        "colab_type": "text"
      },
      "source": [
        "<a href=\"https://colab.research.google.com/github/arbazsherief/DSA0301-NLP/blob/main/EXP_13_a_parse_tree_for_a_given_sentence_using_a_context_free_grammar_.ipynb\" target=\"_parent\"><img src=\"https://colab.research.google.com/assets/colab-badge.svg\" alt=\"Open In Colab\"/></a>"
      ]
    },
    {
      "cell_type": "code",
      "execution_count": 2,
      "metadata": {
        "colab": {
          "base_uri": "https://localhost:8080/"
        },
        "id": "89M2UN80JEip",
        "outputId": "36be2679-59f6-4b93-d0f8-107940a606f6"
      },
      "outputs": [
        {
          "output_type": "stream",
          "name": "stdout",
          "text": [
            "Collecting lark\n",
            "  Downloading lark-1.1.8-py3-none-any.whl (111 kB)\n",
            "\u001b[?25l     \u001b[90m━━━━━━━━━━━━━━━━━━━━━━━━━━━━━━━━━━━━━━━━\u001b[0m \u001b[32m0.0/111.6 kB\u001b[0m \u001b[31m?\u001b[0m eta \u001b[36m-:--:--\u001b[0m\r\u001b[2K     \u001b[91m━━━━━━━━━━━━━━\u001b[0m\u001b[91m╸\u001b[0m\u001b[90m━━━━━━━━━━━━━━━━━━━━━━━━━\u001b[0m \u001b[32m41.0/111.6 kB\u001b[0m \u001b[31m1.2 MB/s\u001b[0m eta \u001b[36m0:00:01\u001b[0m\r\u001b[2K     \u001b[90m━━━━━━━━━━━━━━━━━━━━━━━━━━━━━━━━━━━━━━━━\u001b[0m \u001b[32m111.6/111.6 kB\u001b[0m \u001b[31m2.2 MB/s\u001b[0m eta \u001b[36m0:00:00\u001b[0m\n",
            "\u001b[?25hInstalling collected packages: lark\n",
            "Successfully installed lark-1.1.8\n"
          ]
        }
      ],
      "source": [
        "pip install lark"
      ]
    },
    {
      "cell_type": "code",
      "source": [
        "from lark import Lark\n",
        "\n",
        "grammar = '''\n",
        "    start: sentence\n",
        "    sentence: \"the\" WS noun WS \"is\" WS adjective\n",
        "    noun: \"cat\" | \"dog\" | \"bird\"\n",
        "    adjective: \"happy\" | \"sad\" | \"hungry\"\n",
        "    %import common.WS\n",
        "    %ignore WS\n",
        "'''\n",
        "\n",
        "parser = Lark(grammar, start='start')\n",
        "sentence = \"the cat is happy\"\n",
        "tree = parser.parse(sentence)\n",
        "print(tree.pretty())\n"
      ],
      "metadata": {
        "colab": {
          "base_uri": "https://localhost:8080/"
        },
        "id": "qKp53Fb9JSrZ",
        "outputId": "1b1cd6b7-1718-4e13-97e2-f61da508ead2"
      },
      "execution_count": 15,
      "outputs": [
        {
          "output_type": "stream",
          "name": "stdout",
          "text": [
            "start\n",
            "  sentence\n",
            "     \n",
            "    noun\n",
            "     \n",
            "     \n",
            "    adjective\n",
            "\n"
          ]
        }
      ]
    }
  ]
}