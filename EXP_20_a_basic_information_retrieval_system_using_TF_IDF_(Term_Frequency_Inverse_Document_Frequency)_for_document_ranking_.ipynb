{
  "nbformat": 4,
  "nbformat_minor": 0,
  "metadata": {
    "colab": {
      "provenance": [],
      "authorship_tag": "ABX9TyOuKr9Wctsm8MZQfiNYa8d5",
      "include_colab_link": true
    },
    "kernelspec": {
      "name": "python3",
      "display_name": "Python 3"
    },
    "language_info": {
      "name": "python"
    }
  },
  "cells": [
    {
      "cell_type": "markdown",
      "metadata": {
        "id": "view-in-github",
        "colab_type": "text"
      },
      "source": [
        "<a href=\"https://colab.research.google.com/github/arbazsherief/DSA0301-NLP/blob/main/EXP_20_a_basic_information_retrieval_system_using_TF_IDF_(Term_Frequency_Inverse_Document_Frequency)_for_document_ranking_.ipynb\" target=\"_parent\"><img src=\"https://colab.research.google.com/assets/colab-badge.svg\" alt=\"Open In Colab\"/></a>"
      ]
    },
    {
      "cell_type": "code",
      "execution_count": 2,
      "metadata": {
        "colab": {
          "base_uri": "https://localhost:8080/"
        },
        "id": "QSdkHN02GocR",
        "outputId": "e0e3f5ae-255a-4c79-c277-3bfd24d3b3b9"
      },
      "outputs": [
        {
          "output_type": "stream",
          "name": "stdout",
          "text": [
            "Ranked documents based on TF-IDF similarity to the query:\n",
            "Rank 1: Similarity Score: 0.9505, Document: 'This document is the second document.'\n",
            "Rank 2: Similarity Score: 0.6042, Document: 'This is the first document.'\n",
            "Rank 3: Similarity Score: 0.6042, Document: 'Is this the first document?'\n",
            "Rank 4: Similarity Score: 0.2804, Document: 'And this is the third one.'\n"
          ]
        }
      ],
      "source": [
        "from sklearn.feature_extraction.text import TfidfVectorizer\n",
        "from sklearn.metrics.pairwise import cosine_similarity\n",
        "\n",
        "documents = [\n",
        "    \"This is the first document.\",\n",
        "    \"This document is the second document.\",\n",
        "    \"And this is the third one.\",\n",
        "    \"Is this the first document?\",\n",
        "]\n",
        "\n",
        "vectorizer = TfidfVectorizer()\n",
        "\n",
        "tfidf_matrix = vectorizer.fit_transform(documents)\n",
        "\n",
        "query = \"this is the second document\"\n",
        "\n",
        "query_vector = vectorizer.transform([query])\n",
        "\n",
        "cosine_similarities = cosine_similarity(query_vector, tfidf_matrix).flatten()\n",
        "\n",
        "document_scores = [(score, doc) for score, doc in zip(cosine_similarities, documents)]\n",
        "sorted_documents = sorted(document_scores, key=lambda x: x[0], reverse=True)\n",
        "\n",
        "print(\"Ranked documents based on TF-IDF similarity to the query:\")\n",
        "for i, (score, doc) in enumerate(sorted_documents, start=1):\n",
        "    print(f\"Rank {i}: Similarity Score: {score:.4f}, Document: '{doc}'\")\n"
      ]
    }
  ]
}