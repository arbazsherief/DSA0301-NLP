{
  "nbformat": 4,
  "nbformat_minor": 0,
  "metadata": {
    "colab": {
      "provenance": [],
      "authorship_tag": "ABX9TyPtplyezMuH9VE088T2fCTz",
      "include_colab_link": true
    },
    "kernelspec": {
      "name": "python3",
      "display_name": "Python 3"
    },
    "language_info": {
      "name": "python"
    }
  },
  "cells": [
    {
      "cell_type": "markdown",
      "metadata": {
        "id": "view-in-github",
        "colab_type": "text"
      },
      "source": [
        "<a href=\"https://colab.research.google.com/github/arbazsherief/DSA0301-NLP/blob/main/EXP_18_a_simple_FOPC_parser_for_basic_logical_expressions.ipynb\" target=\"_parent\"><img src=\"https://colab.research.google.com/assets/colab-badge.svg\" alt=\"Open In Colab\"/></a>"
      ]
    },
    {
      "cell_type": "code",
      "execution_count": 1,
      "metadata": {
        "colab": {
          "base_uri": "https://localhost:8080/"
        },
        "id": "i-U_pHwoFGNC",
        "outputId": "af05ed97-76f2-4cb0-d5fe-9637837e2215"
      },
      "outputs": [
        {
          "output_type": "stream",
          "name": "stdout",
          "text": [
            "Requirement already satisfied: pyparsing in /usr/local/lib/python3.10/dist-packages (3.1.1)\n"
          ]
        }
      ],
      "source": [
        "pip install pyparsing"
      ]
    },
    {
      "cell_type": "code",
      "source": [
        "from pyparsing import Word, alphas, alphanums, Forward, infixNotation, opAssoc\n",
        "\n",
        "identifier = Word(alphas, alphanums+\"_\")\n",
        "\n",
        "and_op = \"AND\"\n",
        "or_op = \"OR\"\n",
        "implies_op = \"IMPLIES\"\n",
        "not_op = \"NOT\"\n",
        "\n",
        "expr = Forward()\n",
        "atom = identifier | \"(\" + expr + \")\"\n",
        "term = infixNotation(atom, [\n",
        "    (not_op, 1, opAssoc.RIGHT),\n",
        "    (and_op, 2, opAssoc.LEFT),\n",
        "    (or_op, 2, opAssoc.LEFT),\n",
        "    (implies_op, 2, opAssoc.RIGHT),\n",
        "])\n",
        "\n",
        "def parse_expression(expression):\n",
        "    return term.parseString(expression, parseAll=True)\n",
        "\n",
        "logical_expression = \"P AND (Q OR NOT R) IMPLIES S\"\n",
        "parsed_expr = parse_expression(logical_expression)\n",
        "print(parsed_expr)\n"
      ],
      "metadata": {
        "colab": {
          "base_uri": "https://localhost:8080/"
        },
        "id": "0ZBvd1CAFKy5",
        "outputId": "bd86ec14-dc32-41d2-bb4d-daa3910cc006"
      },
      "execution_count": 3,
      "outputs": [
        {
          "output_type": "stream",
          "name": "stdout",
          "text": [
            "[[['P', 'AND', ['Q', 'OR', ['NOT', 'R']]], 'IMPLIES', 'S']]\n"
          ]
        }
      ]
    }
  ]
}