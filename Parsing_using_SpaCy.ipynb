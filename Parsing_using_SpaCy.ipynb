{
  "nbformat": 4,
  "nbformat_minor": 0,
  "metadata": {
    "colab": {
      "provenance": []
    },
    "kernelspec": {
      "name": "python3",
      "display_name": "Python 3"
    },
    "language_info": {
      "name": "python"
    }
  },
  "cells": [
    {
      "cell_type": "code",
      "execution_count": 20,
      "metadata": {
        "id": "FZMQSuzt2wWs"
      },
      "outputs": [],
      "source": [
        "import spacy"
      ]
    },
    {
      "cell_type": "code",
      "source": [
        "nlp=spacy.load(\n",
        "    'en_core_web_sm'\n",
        ")"
      ],
      "metadata": {
        "id": "eAlZR3yX2yyi"
      },
      "execution_count": 21,
      "outputs": []
    },
    {
      "cell_type": "code",
      "source": [
        "sentence=\"she eats an apple and runs a shop\"\n",
        "doc=nlp(sentence)"
      ],
      "metadata": {
        "id": "CgORQGvq3DUT"
      },
      "execution_count": 22,
      "outputs": []
    },
    {
      "cell_type": "code",
      "source": [
        "subcat_frames={}\n",
        "for token in doc:\n",
        "  if token.dep_=='dobj':\n",
        "    verb=token.head.text\n",
        "    obj=token.text\n",
        "    if verb not in subcat_frames:\n",
        "      subcat_frames[verb]=[]\n",
        "    subcat_frames[verb].append(obj)"
      ],
      "metadata": {
        "id": "puYLBWt13Nto"
      },
      "execution_count": 23,
      "outputs": []
    },
    {
      "cell_type": "code",
      "source": [
        "for verb, objects in subcat_frames.items():\n",
        "  print(f\"{verb}: {','.join(objects)}\")"
      ],
      "metadata": {
        "colab": {
          "base_uri": "https://localhost:8080/"
        },
        "id": "Y-bfKI3V3vh9",
        "outputId": "7cbd9bd3-0802-4161-9728-5449fa3cab28"
      },
      "execution_count": 24,
      "outputs": [
        {
          "output_type": "stream",
          "name": "stdout",
          "text": [
            "eats: apple\n",
            "runs: shop\n"
          ]
        }
      ]
    },
    {
      "cell_type": "code",
      "source": [
        "#dependancy tree\n",
        "for token in doc:\n",
        "    print(f\"{token.text} --{token.dep_}--> {token.head.text}\")"
      ],
      "metadata": {
        "colab": {
          "base_uri": "https://localhost:8080/"
        },
        "id": "lOGhEjpQ3_am",
        "outputId": "3327c1b5-5e1d-4af3-c945-ef4b515c83ec"
      },
      "execution_count": 27,
      "outputs": [
        {
          "output_type": "stream",
          "name": "stdout",
          "text": [
            "she --nsubj--> eats\n",
            "eats --ROOT--> eats\n",
            "an --det--> apple\n",
            "apple --dobj--> eats\n",
            "and --cc--> eats\n",
            "runs --conj--> eats\n",
            "a --det--> shop\n",
            "shop --dobj--> runs\n"
          ]
        }
      ]
    },
    {
      "cell_type": "code",
      "source": [],
      "metadata": {
        "id": "VvYrdqCn7GH4"
      },
      "execution_count": null,
      "outputs": []
    }
  ]
}