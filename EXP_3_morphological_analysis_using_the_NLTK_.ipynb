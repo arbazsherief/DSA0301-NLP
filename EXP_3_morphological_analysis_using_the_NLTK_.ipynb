{
  "nbformat": 4,
  "nbformat_minor": 0,
  "metadata": {
    "colab": {
      "provenance": [],
      "authorship_tag": "ABX9TyNTZAz+hNUrL2QONClTsKd7",
      "include_colab_link": true
    },
    "kernelspec": {
      "name": "python3",
      "display_name": "Python 3"
    },
    "language_info": {
      "name": "python"
    }
  },
  "cells": [
    {
      "cell_type": "markdown",
      "metadata": {
        "id": "view-in-github",
        "colab_type": "text"
      },
      "source": [
        "<a href=\"https://colab.research.google.com/github/arbazsherief/DSA0301-NLP/blob/main/EXP_3_morphological_analysis_using_the_NLTK_.ipynb\" target=\"_parent\"><img src=\"https://colab.research.google.com/assets/colab-badge.svg\" alt=\"Open In Colab\"/></a>"
      ]
    },
    {
      "cell_type": "code",
      "execution_count": null,
      "metadata": {
        "colab": {
          "base_uri": "https://localhost:8080/"
        },
        "id": "eSJZRn9nhTYF",
        "outputId": "0134d5fe-52ca-48e7-de5b-4df9e9cd2d5f"
      },
      "outputs": [
        {
          "output_type": "stream",
          "name": "stdout",
          "text": [
            "Requirement already satisfied: nltk in /usr/local/lib/python3.10/dist-packages (3.8.1)\n",
            "Requirement already satisfied: click in /usr/local/lib/python3.10/dist-packages (from nltk) (8.1.7)\n",
            "Requirement already satisfied: joblib in /usr/local/lib/python3.10/dist-packages (from nltk) (1.3.2)\n",
            "Requirement already satisfied: regex>=2021.8.3 in /usr/local/lib/python3.10/dist-packages (from nltk) (2023.6.3)\n",
            "Requirement already satisfied: tqdm in /usr/local/lib/python3.10/dist-packages (from nltk) (4.66.1)\n"
          ]
        }
      ],
      "source": [
        "pip install nltk"
      ]
    },
    {
      "cell_type": "code",
      "source": [
        "import nltk\n",
        "nltk.download('wordnet')\n",
        "nltk.download('averaged_perceptron_tagger')"
      ],
      "metadata": {
        "id": "e9n7xHLtiVJr",
        "colab": {
          "base_uri": "https://localhost:8080/"
        },
        "outputId": "16617130-6507-4a08-b580-533bd664898e"
      },
      "execution_count": 12,
      "outputs": [
        {
          "output_type": "stream",
          "name": "stderr",
          "text": [
            "[nltk_data] Downloading package wordnet to /root/nltk_data...\n",
            "[nltk_data]   Package wordnet is already up-to-date!\n",
            "[nltk_data] Downloading package averaged_perceptron_tagger to\n",
            "[nltk_data]     /root/nltk_data...\n",
            "[nltk_data]   Unzipping taggers/averaged_perceptron_tagger.zip.\n"
          ]
        },
        {
          "output_type": "execute_result",
          "data": {
            "text/plain": [
              "True"
            ]
          },
          "metadata": {},
          "execution_count": 12
        }
      ]
    },
    {
      "cell_type": "code",
      "source": [
        "import nltk\n",
        "from nltk.stem import WordNetLemmatizer\n",
        "from nltk.corpus import wordnet\n",
        "\n",
        "# Download WordNet data (if not already downloaded)\n",
        "nltk.download('wordnet')\n",
        "\n",
        "lemmatizer = WordNetLemmatizer()\n",
        "words = [\"cats\", \"running\", \"better\", \"rocks\"]\n",
        "\n",
        "for word in words:\n",
        "    pos_tag = nltk.pos_tag([word])[0][1]\n",
        "\n",
        "    if pos_tag.startswith('J'):\n",
        "        pos = wordnet.ADJ\n",
        "    elif pos_tag.startswith('V'):\n",
        "        pos = wordnet.VERB\n",
        "    elif pos_tag.startswith('N'):\n",
        "        pos = wordnet.NOUN\n",
        "    elif pos_tag.startswith('R'):\n",
        "        pos = wordnet.ADV\n",
        "    else:\n",
        "        pos = wordnet.NOUN\n",
        "\n",
        "    lemma = lemmatizer.lemmatize(word, pos)\n",
        "    print(f\"Word: {word}, POS Tag: {pos_tag}, Lemma: {lemma}\")\n"
      ],
      "metadata": {
        "colab": {
          "base_uri": "https://localhost:8080/"
        },
        "id": "YMUaag7KiZS-",
        "outputId": "00ddba30-558a-42e8-a48b-9f8c0def0fb2"
      },
      "execution_count": 13,
      "outputs": [
        {
          "output_type": "stream",
          "name": "stdout",
          "text": [
            "Word: cats, POS Tag: NNS, Lemma: cat\n",
            "Word: running, POS Tag: VBG, Lemma: run\n",
            "Word: better, POS Tag: RBR, Lemma: well\n",
            "Word: rocks, POS Tag: NNS, Lemma: rock\n"
          ]
        },
        {
          "output_type": "stream",
          "name": "stderr",
          "text": [
            "[nltk_data] Downloading package wordnet to /root/nltk_data...\n",
            "[nltk_data]   Package wordnet is already up-to-date!\n"
          ]
        }
      ]
    }
  ]
}