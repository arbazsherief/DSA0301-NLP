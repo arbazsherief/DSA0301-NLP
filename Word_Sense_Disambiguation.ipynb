{
  "nbformat": 4,
  "nbformat_minor": 0,
  "metadata": {
    "colab": {
      "provenance": []
    },
    "kernelspec": {
      "name": "python3",
      "display_name": "Python 3"
    },
    "language_info": {
      "name": "python"
    }
  },
  "cells": [
    {
      "cell_type": "code",
      "execution_count": 1,
      "metadata": {
        "colab": {
          "base_uri": "https://localhost:8080/"
        },
        "id": "cRMNSNhYn8zx",
        "outputId": "64b698c1-eca9-478f-d485-79c690af92b0"
      },
      "outputs": [
        {
          "output_type": "stream",
          "name": "stderr",
          "text": [
            "[nltk_data] Downloading package punkt to /root/nltk_data...\n",
            "[nltk_data]   Unzipping tokenizers/punkt.zip.\n",
            "[nltk_data] Downloading package wordnet to /root/nltk_data...\n"
          ]
        }
      ],
      "source": [
        "import nltk\n",
        "nltk.download('punkt')\n",
        "nltk.download('wordnet')\n",
        "from nltk.wsd import lesk\n",
        "from nltk.tokenize import word_tokenize"
      ]
    },
    {
      "cell_type": "code",
      "source": [
        "def get_semantic(seq, key_word):\n",
        "\n",
        "    # Tokenization of the sequence\n",
        "    temp = word_tokenize(seq)\n",
        "\n",
        "    # Retrieving the definition\n",
        "    # of the tokens\n",
        "    temp = lesk(temp, key_word)\n",
        "    return temp.definition()"
      ],
      "metadata": {
        "id": "ZrEefHMboMNa"
      },
      "execution_count": 2,
      "outputs": []
    },
    {
      "cell_type": "code",
      "source": [
        "keyword = 'book'\n",
        "seq1 = 'I love reading books on coding.'\n",
        "seq2 = 'The table was already booked by someone else.'\n",
        "\n",
        "print(get_semantic(seq1, keyword))\n",
        "print(get_semantic(seq2, keyword))"
      ],
      "metadata": {
        "colab": {
          "base_uri": "https://localhost:8080/"
        },
        "id": "euaOf0Ysofi9",
        "outputId": "fff77438-de3d-453f-b857-ce220f8d8807"
      },
      "execution_count": 3,
      "outputs": [
        {
          "output_type": "stream",
          "name": "stdout",
          "text": [
            "a number of sheets (ticket or stamps etc.) bound together on one edge\n",
            "arrange for and reserve (something for someone else) in advance\n"
          ]
        }
      ]
    }
  ]
}