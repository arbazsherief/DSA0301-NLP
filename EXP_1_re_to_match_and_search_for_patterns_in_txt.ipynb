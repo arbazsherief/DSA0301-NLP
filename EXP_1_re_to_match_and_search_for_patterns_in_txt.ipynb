{
  "nbformat": 4,
  "nbformat_minor": 0,
  "metadata": {
    "colab": {
      "provenance": [],
      "authorship_tag": "ABX9TyMrSeRpPaJi5ChDzZna1c50",
      "include_colab_link": true
    },
    "kernelspec": {
      "name": "python3",
      "display_name": "Python 3"
    },
    "language_info": {
      "name": "python"
    }
  },
  "cells": [
    {
      "cell_type": "markdown",
      "metadata": {
        "id": "view-in-github",
        "colab_type": "text"
      },
      "source": [
        "<a href=\"https://colab.research.google.com/github/arbazsherief/DSA0301-NLP/blob/main/EXP_1_re_to_match_and_search_for_patterns_in_txt.ipynb\" target=\"_parent\"><img src=\"https://colab.research.google.com/assets/colab-badge.svg\" alt=\"Open In Colab\"/></a>"
      ]
    },
    {
      "cell_type": "code",
      "execution_count": 9,
      "metadata": {
        "colab": {
          "base_uri": "https://localhost:8080/"
        },
        "id": "VVoWlUuXA1gm",
        "outputId": "0733dd50-ed37-45c4-c19b-e427bd083039"
      },
      "outputs": [
        {
          "output_type": "stream",
          "name": "stdout",
          "text": [
            "\u001b[31mERROR: Could not find a version that satisfies the requirement re (from versions: none)\u001b[0m\u001b[31m\n",
            "\u001b[0m\u001b[31mERROR: No matching distribution found for re\u001b[0m\u001b[31m\n",
            "\u001b[0m"
          ]
        }
      ],
      "source": [
        "pip install re"
      ]
    },
    {
      "cell_type": "code",
      "source": [
        "import re\n",
        "\n",
        "def main():\n",
        "    text = \"Hello, my email addresses are arbaz@example.com and sherief@test.com. Feel free to contact me!\"\n",
        "\n",
        "    email_pattern = r'\\b[A-Za-z0-9._%+-]+@[A-Za-z0-9.-]+\\.[A-Z|a-z]{2,}\\b'\n",
        "\n",
        "    matches = re.findall(email_pattern, text)\n",
        "\n",
        "    if matches:\n",
        "        print(\"Found email addresses:\")\n",
        "        for match in matches:\n",
        "            print(match)\n",
        "    else:\n",
        "        print(\"No email addresses found.\")\n",
        "\n",
        "    search_result = re.search(email_pattern, text)\n",
        "    if search_result:\n",
        "        print(\"\\nFirst email address found:\")\n",
        "        print(search_result.group())\n",
        "        print(\"Start position:\", search_result.start())\n",
        "        print(\"End position:\", search_result.end())\n",
        "    else:\n",
        "        print(\"\\nNo email address found in the first search.\")\n",
        "\n",
        "if __name__ == \"__main__\":\n",
        "    main()"
      ],
      "metadata": {
        "colab": {
          "base_uri": "https://localhost:8080/"
        },
        "id": "pzXSlgdDBHJY",
        "outputId": "8b3fe54a-1335-4cdc-a307-12471dacbc98"
      },
      "execution_count": 10,
      "outputs": [
        {
          "output_type": "stream",
          "name": "stdout",
          "text": [
            "Found email addresses:\n",
            "arbaz@example.com\n",
            "sherief@test.com\n",
            "\n",
            "First email address found:\n",
            "arbaz@example.com\n",
            "Start position: 30\n",
            "End position: 47\n"
          ]
        }
      ]
    }
  ]
}