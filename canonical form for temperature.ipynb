{
  "nbformat": 4,
  "nbformat_minor": 0,
  "metadata": {
    "colab": {
      "provenance": [],
      "authorship_tag": "ABX9TyPmPrflqPnDmaqyRPKsurm2",
      "include_colab_link": true
    },
    "kernelspec": {
      "name": "python3",
      "display_name": "Python 3"
    },
    "language_info": {
      "name": "python"
    }
  },
  "cells": [
    {
      "cell_type": "markdown",
      "metadata": {
        "id": "view-in-github",
        "colab_type": "text"
      },
      "source": [
        "<a href=\"https://colab.research.google.com/github/arbazsherief/DSA0301-NLP/blob/main/canonical%20form%20for%20temperature.ipynb\" target=\"_parent\"><img src=\"https://colab.research.google.com/assets/colab-badge.svg\" alt=\"Open In Colab\"/></a>"
      ]
    },
    {
      "cell_type": "code",
      "execution_count": null,
      "metadata": {
        "id": "XE9L1-XCxyb3",
        "outputId": "c14e190a-65af-48e2-9787-d571ee6de5ac",
        "colab": {
          "base_uri": "https://localhost:8080/"
        }
      },
      "outputs": [
        {
          "output_type": "stream",
          "name": "stdout",
          "text": [
            "The temperature in the room is 25 degree celsius\n",
            "The room temperature is 25 degree celsius\n",
            "The canonical form of 'temperature' is 'Temperature'\n",
            "77.0\n",
            "The temperature of 25 degree celsius:worm\n"
          ]
        }
      ],
      "source": [
        "print(\"The temperature in the room is 25 degree celsius\")\n",
        "temp_cel= 25\n",
        "print(f\"The room temperature is {temp_cel} degree celsius\")\n",
        "word = \"temperature\"\n",
        "can_form = word.capitalize()\n",
        "print(f\"The canonical form of '{word}' is '{can_form}'\")\n",
        "temp_in_cel = 25\n",
        "temp_in_fah = (temp_in_cel * 9/5 + 32)\n",
        "print(temp_in_fah)\n",
        "\n",
        "def analyze_temp(temp):\n",
        "    if temp<0:\n",
        "        return \"it is freezy\"\n",
        "    elif 0<=temp<20:\n",
        "        return \"it is cool\"\n",
        "    else:\n",
        "        return \"worm\"\n",
        "analy = analyze_temp(temp_in_cel)\n",
        "print(f\"The temperature of {temp_in_cel} degree celsius:{analy}\")"
      ]
    }
  ]
}