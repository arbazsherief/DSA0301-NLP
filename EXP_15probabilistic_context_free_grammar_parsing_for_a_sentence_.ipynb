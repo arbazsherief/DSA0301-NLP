{
  "nbformat": 4,
  "nbformat_minor": 0,
  "metadata": {
    "colab": {
      "provenance": [],
      "authorship_tag": "ABX9TyNi32owZG5xhnjUX3RowRLk",
      "include_colab_link": true
    },
    "kernelspec": {
      "name": "python3",
      "display_name": "Python 3"
    },
    "language_info": {
      "name": "python"
    }
  },
  "cells": [
    {
      "cell_type": "markdown",
      "metadata": {
        "id": "view-in-github",
        "colab_type": "text"
      },
      "source": [
        "<a href=\"https://colab.research.google.com/github/arbazsherief/DSA0301-NLP/blob/main/EXP_15probabilistic_context_free_grammar_parsing_for_a_sentence_.ipynb\" target=\"_parent\"><img src=\"https://colab.research.google.com/assets/colab-badge.svg\" alt=\"Open In Colab\"/></a>"
      ]
    },
    {
      "cell_type": "code",
      "execution_count": 1,
      "metadata": {
        "colab": {
          "base_uri": "https://localhost:8080/"
        },
        "id": "_mzcszN9B1Rl",
        "outputId": "c53a704e-08fc-4c27-fbb7-12a8b6a3d440"
      },
      "outputs": [
        {
          "output_type": "stream",
          "name": "stdout",
          "text": [
            "Requirement already satisfied: nltk in /usr/local/lib/python3.10/dist-packages (3.8.1)\n",
            "Requirement already satisfied: click in /usr/local/lib/python3.10/dist-packages (from nltk) (8.1.7)\n",
            "Requirement already satisfied: joblib in /usr/local/lib/python3.10/dist-packages (from nltk) (1.3.2)\n",
            "Requirement already satisfied: regex>=2021.8.3 in /usr/local/lib/python3.10/dist-packages (from nltk) (2023.6.3)\n",
            "Requirement already satisfied: tqdm in /usr/local/lib/python3.10/dist-packages (from nltk) (4.66.1)\n"
          ]
        }
      ],
      "source": [
        "pip install nltk"
      ]
    },
    {
      "cell_type": "code",
      "source": [
        "import nltk\n",
        "grammar = nltk.PCFG.fromstring(\"\"\"\n",
        "    S -> NP VP [1.0]\n",
        "    VP -> V NP [0.7] | VP PP [0.3]\n",
        "    PP -> P NP [1.0]\n",
        "    V -> \"saw\" [1.0]\n",
        "    P -> \"with\" [1.0]\n",
        "    NP -> N [0.4] | Det N [0.3] | NP PP [0.3]\n",
        "    N -> \"John\" [0.4] | \"Mary\" [0.4] | \"telescope\" [0.2]\n",
        "    Det -> \"a\" [1.0]\n",
        "\"\"\")\n",
        "parser = nltk.ViterbiParser(grammar)\n",
        "\n",
        "sentence = \"John saw Mary with a telescope\".split()\n",
        "\n",
        "trees = list(parser.parse(sentence))\n",
        "\n",
        "trees.sort(key=lambda tree: -tree.prob())\n",
        "\n",
        "for tree in trees:\n",
        "    print(tree)\n"
      ],
      "metadata": {
        "colab": {
          "base_uri": "https://localhost:8080/"
        },
        "id": "gzwAf6rxB3IB",
        "outputId": "da6fe2e8-262e-4ef9-878d-8df742b64a51"
      },
      "execution_count": 11,
      "outputs": [
        {
          "output_type": "stream",
          "name": "stdout",
          "text": [
            "(S\n",
            "  (NP (N John))\n",
            "  (VP\n",
            "    (VP (V saw) (NP (N Mary)))\n",
            "    (PP (P with) (NP (Det a) (N telescope))))) (p=0.00032256)\n"
          ]
        }
      ]
    }
  ]
}