{
  "nbformat": 4,
  "nbformat_minor": 0,
  "metadata": {
    "colab": {
      "provenance": [],
      "authorship_tag": "ABX9TyP8dUaewOEUahqL+kvT/OSp",
      "include_colab_link": true
    },
    "kernelspec": {
      "name": "python3",
      "display_name": "Python 3"
    },
    "language_info": {
      "name": "python"
    }
  },
  "cells": [
    {
      "cell_type": "markdown",
      "metadata": {
        "id": "view-in-github",
        "colab_type": "text"
      },
      "source": [
        "<a href=\"https://colab.research.google.com/github/arbazsherief/DSA0301-NLP/blob/main/EXP_9_a_rule_based_part_of_speech_tagging_system_using_regular_expressions_.ipynb\" target=\"_parent\"><img src=\"https://colab.research.google.com/assets/colab-badge.svg\" alt=\"Open In Colab\"/></a>"
      ]
    },
    {
      "cell_type": "code",
      "execution_count": 1,
      "metadata": {
        "colab": {
          "base_uri": "https://localhost:8080/"
        },
        "id": "rz9-LTfUNArh",
        "outputId": "6111c9f1-a6eb-47ed-98fc-6a2fb1fb5adb"
      },
      "outputs": [
        {
          "output_type": "stream",
          "name": "stdout",
          "text": [
            "Requirement already satisfied: nltk in /usr/local/lib/python3.10/dist-packages (3.8.1)\n",
            "Requirement already satisfied: click in /usr/local/lib/python3.10/dist-packages (from nltk) (8.1.7)\n",
            "Requirement already satisfied: joblib in /usr/local/lib/python3.10/dist-packages (from nltk) (1.3.2)\n",
            "Requirement already satisfied: regex>=2021.8.3 in /usr/local/lib/python3.10/dist-packages (from nltk) (2023.6.3)\n",
            "Requirement already satisfied: tqdm in /usr/local/lib/python3.10/dist-packages (from nltk) (4.66.1)\n"
          ]
        }
      ],
      "source": [
        "pip install nltk"
      ]
    },
    {
      "cell_type": "code",
      "source": [
        "pip install re"
      ],
      "metadata": {
        "colab": {
          "base_uri": "https://localhost:8080/"
        },
        "id": "IHoB1PX5PzK9",
        "outputId": "66d67121-81db-4e39-b514-2724539f230b"
      },
      "execution_count": 2,
      "outputs": [
        {
          "output_type": "stream",
          "name": "stdout",
          "text": [
            "\u001b[31mERROR: Could not find a version that satisfies the requirement re (from versions: none)\u001b[0m\u001b[31m\n",
            "\u001b[0m\u001b[31mERROR: No matching distribution found for re\u001b[0m\u001b[31m\n",
            "\u001b[0m"
          ]
        }
      ]
    },
    {
      "cell_type": "code",
      "source": [
        "import re\n",
        "tagging_rules = [\n",
        "    (r'\\b[Aa]pple\\b', 'NN'),\n",
        "    (r'\\b[0-9]+\\b', 'CD'),\n",
        "    (r'\\b[A-Z][a-z]*\\b', 'NNP'),\n",
        "    (r'\\b\\w+ing\\b', 'VBG'),\n",
        "    (r'\\b\\w+ed\\b', 'VBD'),\n",
        "    (r'\\b\\w+s\\b', 'NNS'),\n",
        "    (r'\\b\\w+ly\\b', 'RB'),\n",
        "    (r'\\b\\w+\\b', 'NN')\n",
        "]\n",
        "def rule_based_pos_tagger(sentence):\n",
        "    tagged_sentence = []\n",
        "    for word in sentence:\n",
        "        pos_tag = None\n",
        "        for pattern, tag in tagging_rules:\n",
        "            if re.search(pattern, word):\n",
        "                pos_tag = tag\n",
        "                break\n",
        "        if not pos_tag:\n",
        "            pos_tag = 'NN'\n",
        "        tagged_sentence.append((word, pos_tag))\n",
        "    return tagged_sentence\n",
        "test_sentence = ['I', 'ate', 'an', 'apple', 'yesterday']\n",
        "pos_tags = rule_based_pos_tagger(test_sentence)\n",
        "print(pos_tags)\n"
      ],
      "metadata": {
        "colab": {
          "base_uri": "https://localhost:8080/"
        },
        "id": "WXB1ayk_QAd4",
        "outputId": "89ccd77f-6943-4938-e274-0c93bfa68833"
      },
      "execution_count": 4,
      "outputs": [
        {
          "output_type": "stream",
          "name": "stdout",
          "text": [
            "[('I', 'NNP'), ('ate', 'NN'), ('an', 'NN'), ('apple', 'NN'), ('yesterday', 'NN')]\n"
          ]
        }
      ]
    }
  ]
}