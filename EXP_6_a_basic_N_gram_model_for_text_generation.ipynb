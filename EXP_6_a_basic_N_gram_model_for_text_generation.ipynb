{
  "nbformat": 4,
  "nbformat_minor": 0,
  "metadata": {
    "colab": {
      "provenance": [],
      "authorship_tag": "ABX9TyMkarg6z8NQ15/oQBqUiBDp",
      "include_colab_link": true
    },
    "kernelspec": {
      "name": "python3",
      "display_name": "Python 3"
    },
    "language_info": {
      "name": "python"
    }
  },
  "cells": [
    {
      "cell_type": "markdown",
      "metadata": {
        "id": "view-in-github",
        "colab_type": "text"
      },
      "source": [
        "<a href=\"https://colab.research.google.com/github/arbazsherief/DSA0301-NLP/blob/main/EXP_6_a_basic_N_gram_model_for_text_generation.ipynb\" target=\"_parent\"><img src=\"https://colab.research.google.com/assets/colab-badge.svg\" alt=\"Open In Colab\"/></a>"
      ]
    },
    {
      "cell_type": "code",
      "execution_count": 3,
      "metadata": {
        "colab": {
          "base_uri": "https://localhost:8080/"
        },
        "id": "-dAMPlNclyZ3",
        "outputId": "d6300a03-82b7-4df0-810c-d1ee7780844e"
      },
      "outputs": [
        {
          "output_type": "stream",
          "name": "stdout",
          "text": [
            "Requirement already satisfied: nltk in /usr/local/lib/python3.10/dist-packages (3.8.1)\n",
            "Requirement already satisfied: click in /usr/local/lib/python3.10/dist-packages (from nltk) (8.1.7)\n",
            "Requirement already satisfied: joblib in /usr/local/lib/python3.10/dist-packages (from nltk) (1.3.2)\n",
            "Requirement already satisfied: regex>=2021.8.3 in /usr/local/lib/python3.10/dist-packages (from nltk) (2023.6.3)\n",
            "Requirement already satisfied: tqdm in /usr/local/lib/python3.10/dist-packages (from nltk) (4.66.1)\n"
          ]
        }
      ],
      "source": [
        "pip install nltk"
      ]
    },
    {
      "cell_type": "code",
      "source": [
        "pip install random"
      ],
      "metadata": {
        "colab": {
          "base_uri": "https://localhost:8080/"
        },
        "id": "XXo3PNr_mjrH",
        "outputId": "db4a4186-7d2c-4d96-d036-0964c7292ef7"
      },
      "execution_count": 4,
      "outputs": [
        {
          "output_type": "stream",
          "name": "stdout",
          "text": [
            "\u001b[31mERROR: Could not find a version that satisfies the requirement random (from versions: none)\u001b[0m\u001b[31m\n",
            "\u001b[0m\u001b[31mERROR: No matching distribution found for random\u001b[0m\u001b[31m\n",
            "\u001b[0m"
          ]
        }
      ]
    },
    {
      "cell_type": "code",
      "source": [
        "import random\n",
        "import nltk\n",
        "nltk.download('punkt')\n",
        "text = \"This is a simple example of a bigram model. Text generation using bigrams is fun and educational.\"\n",
        "\n",
        "words = nltk.word_tokenize(text)\n",
        "\n",
        "bigrams = list(nltk.bigrams(words))\n",
        "\n",
        "\n",
        "bigram_model = {}\n",
        "for w1, w2 in bigrams:\n",
        "    if w1 in bigram_model:\n",
        "        bigram_model[w1].append(w2)\n",
        "    else:\n",
        "        bigram_model[w1] = [w2]\n",
        "\n",
        "start_word = random.choice(words)\n",
        "generated_text = [start_word]\n",
        "\n",
        "for _ in range(20):\n",
        "    next_word = random.choice(bigram_model.get(generated_text[-1], [\".\"]))\n",
        "    if next_word == \".\":\n",
        "        break\n",
        "    generated_text.append(next_word)\n",
        "\n",
        "generated_text = \" \".join(generated_text)\n",
        "print(generated_text)\n"
      ],
      "metadata": {
        "colab": {
          "base_uri": "https://localhost:8080/"
        },
        "id": "F7MmKR3PnLM8",
        "outputId": "7317b969-1f95-40b5-a6f5-9bfd1bf3f61c"
      },
      "execution_count": 11,
      "outputs": [
        {
          "output_type": "stream",
          "name": "stdout",
          "text": [
            "is a simple example of a bigram model\n"
          ]
        },
        {
          "output_type": "stream",
          "name": "stderr",
          "text": [
            "[nltk_data] Downloading package punkt to /root/nltk_data...\n",
            "[nltk_data]   Package punkt is already up-to-date!\n"
          ]
        }
      ]
    }
  ]
}