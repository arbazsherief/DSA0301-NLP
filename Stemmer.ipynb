{
  "cells": [
    {
      "cell_type": "markdown",
      "metadata": {
        "id": "view-in-github",
        "colab_type": "text"
      },
      "source": [
        "<a href=\"https://colab.research.google.com/github/arbazsherief/DSA0301-NLP/blob/main/Stemmer.ipynb\" target=\"_parent\"><img src=\"https://colab.research.google.com/assets/colab-badge.svg\" alt=\"Open In Colab\"/></a>"
      ]
    },
    {
      "cell_type": "code",
      "source": [
        "pip install nltk"
      ],
      "metadata": {
        "colab": {
          "base_uri": "https://localhost:8080/"
        },
        "id": "_joDHiVOqreX",
        "outputId": "c77f0b79-149b-444c-9b3b-50040ec7d2c5"
      },
      "execution_count": 1,
      "outputs": [
        {
          "output_type": "stream",
          "name": "stdout",
          "text": [
            "Requirement already satisfied: nltk in /usr/local/lib/python3.10/dist-packages (3.8.1)\n",
            "Requirement already satisfied: click in /usr/local/lib/python3.10/dist-packages (from nltk) (8.1.7)\n",
            "Requirement already satisfied: joblib in /usr/local/lib/python3.10/dist-packages (from nltk) (1.3.2)\n",
            "Requirement already satisfied: regex>=2021.8.3 in /usr/local/lib/python3.10/dist-packages (from nltk) (2023.6.3)\n",
            "Requirement already satisfied: tqdm in /usr/local/lib/python3.10/dist-packages (from nltk) (4.66.1)\n"
          ]
        }
      ]
    },
    {
      "cell_type": "code",
      "source": [
        "import nltk\n",
        "from nltk.stem import PorterStemmer\n",
        "\n",
        "nltk.download(\"punkt\")  # Download the required data\n",
        "\n",
        "# Create a Porter Stemmer instance\n",
        "stemmer = PorterStemmer()\n",
        "\n",
        "# Example sentences for stemming\n",
        "sentences = [\n",
        "    \"I am running in the park\",\n",
        "    \"The running shoes are on sale\",\n",
        "    \"She ran to catch the bus\"\n",
        "]\n",
        "\n",
        "# Tokenize each sentence and apply stemming\n",
        "for sentence in sentences:\n",
        "    words = nltk.word_tokenize(sentence)\n",
        "    stemmed_words = [stemmer.stem(word) for word in words]\n",
        "    stemmed_sentence = \" \".join(stemmed_words)\n",
        "    print(f\"Original: {sentence}\")\n",
        "    print(f\"Stemmed: {stemmed_sentence}\\n\")\n"
      ],
      "metadata": {
        "colab": {
          "base_uri": "https://localhost:8080/"
        },
        "id": "a7v-lSsGq0Hi",
        "outputId": "dabf8b04-73ff-4d0b-b9d3-0608d327f484"
      },
      "execution_count": 2,
      "outputs": [
        {
          "output_type": "stream",
          "name": "stderr",
          "text": [
            "[nltk_data] Downloading package punkt to /root/nltk_data...\n",
            "[nltk_data]   Unzipping tokenizers/punkt.zip.\n"
          ]
        },
        {
          "output_type": "stream",
          "name": "stdout",
          "text": [
            "Original: I am running in the park\n",
            "Stemmed: i am run in the park\n",
            "\n",
            "Original: The running shoes are on sale\n",
            "Stemmed: the run shoe are on sale\n",
            "\n",
            "Original: She ran to catch the bus\n",
            "Stemmed: she ran to catch the bu\n",
            "\n"
          ]
        }
      ]
    }
  ],
  "metadata": {
    "colab": {
      "name": "Welcome To Colaboratory",
      "toc_visible": true,
      "provenance": [],
      "include_colab_link": true
    },
    "kernelspec": {
      "display_name": "Python 3",
      "name": "python3"
    }
  },
  "nbformat": 4,
  "nbformat_minor": 0
}