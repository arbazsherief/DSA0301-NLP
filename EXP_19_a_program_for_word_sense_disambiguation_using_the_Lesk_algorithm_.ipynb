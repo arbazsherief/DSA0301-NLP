{
  "nbformat": 4,
  "nbformat_minor": 0,
  "metadata": {
    "colab": {
      "provenance": [],
      "authorship_tag": "ABX9TyOQdCXtX9J/WRejSTwqkBYm",
      "include_colab_link": true
    },
    "kernelspec": {
      "name": "python3",
      "display_name": "Python 3"
    },
    "language_info": {
      "name": "python"
    }
  },
  "cells": [
    {
      "cell_type": "markdown",
      "metadata": {
        "id": "view-in-github",
        "colab_type": "text"
      },
      "source": [
        "<a href=\"https://colab.research.google.com/github/arbazsherief/DSA0301-NLP/blob/main/EXP_19_a_program_for_word_sense_disambiguation_using_the_Lesk_algorithm_.ipynb\" target=\"_parent\"><img src=\"https://colab.research.google.com/assets/colab-badge.svg\" alt=\"Open In Colab\"/></a>"
      ]
    },
    {
      "cell_type": "code",
      "execution_count": 1,
      "metadata": {
        "colab": {
          "base_uri": "https://localhost:8080/"
        },
        "id": "ajRV2w8GFuYy",
        "outputId": "1f7193fc-c57f-482b-a1df-5411e2222299"
      },
      "outputs": [
        {
          "output_type": "stream",
          "name": "stdout",
          "text": [
            "Requirement already satisfied: nltk in /usr/local/lib/python3.10/dist-packages (3.8.1)\n",
            "Requirement already satisfied: click in /usr/local/lib/python3.10/dist-packages (from nltk) (8.1.7)\n",
            "Requirement already satisfied: joblib in /usr/local/lib/python3.10/dist-packages (from nltk) (1.3.2)\n",
            "Requirement already satisfied: regex>=2021.8.3 in /usr/local/lib/python3.10/dist-packages (from nltk) (2023.6.3)\n",
            "Requirement already satisfied: tqdm in /usr/local/lib/python3.10/dist-packages (from nltk) (4.66.1)\n"
          ]
        }
      ],
      "source": [
        "pip install nltk"
      ]
    },
    {
      "cell_type": "code",
      "source": [
        "import nltk\n",
        "nltk.download('punkt')\n",
        "nltk.download('stopwords')\n",
        "nltk.download('wordnet')"
      ],
      "metadata": {
        "colab": {
          "base_uri": "https://localhost:8080/"
        },
        "id": "zarI9mMMF8v0",
        "outputId": "f5424569-83d9-4ccd-9987-72ec35db6114"
      },
      "execution_count": 7,
      "outputs": [
        {
          "output_type": "stream",
          "name": "stderr",
          "text": [
            "[nltk_data] Downloading package punkt to /root/nltk_data...\n",
            "[nltk_data]   Package punkt is already up-to-date!\n",
            "[nltk_data] Downloading package stopwords to /root/nltk_data...\n",
            "[nltk_data]   Package stopwords is already up-to-date!\n",
            "[nltk_data] Downloading package wordnet to /root/nltk_data...\n"
          ]
        },
        {
          "output_type": "execute_result",
          "data": {
            "text/plain": [
              "True"
            ]
          },
          "metadata": {},
          "execution_count": 7
        }
      ]
    },
    {
      "cell_type": "code",
      "source": [
        "import nltk\n",
        "from nltk.corpus import wordnet\n",
        "from nltk.tokenize import word_tokenize\n",
        "from nltk.corpus import stopwords\n",
        "\n",
        "def lesk_algorithm(word, sentence):\n",
        "    best_sense = None\n",
        "    max_overlap = 0\n",
        "\n",
        "    word = word.lower()\n",
        "    context = set(word_tokenize(sentence.lower()))\n",
        "    context = context.difference(set(stopwords.words('english')))\n",
        "\n",
        "    synsets = wordnet.synsets(word)\n",
        "    for sense in synsets:\n",
        "        signature = set(word_tokenize(sense.definition()))\n",
        "        signature = signature.union(set([word.lower() for word in sense.lemma_names()]))\n",
        "\n",
        "        overlap = len(context.intersection(signature))\n",
        "\n",
        "        if overlap > max_overlap:\n",
        "            max_overlap = overlap\n",
        "            best_sense = sense\n",
        "\n",
        "    return best_sense\n",
        "\n",
        "sentence = \"I went to the bank to deposit money.\"\n",
        "target_word = \"bank\"\n",
        "\n",
        "sense = lesk_algorithm(target_word, sentence)\n",
        "\n",
        "if sense:\n",
        "    print(f\"Target word: {target_word}\")\n",
        "    print(f\"Best sense: {sense.name()} - Definition: {sense.definition()}\")\n",
        "else:\n",
        "    print(f\"No suitable sense found for '{target_word}' in the context of the sentence.\")\n"
      ],
      "metadata": {
        "colab": {
          "base_uri": "https://localhost:8080/"
        },
        "id": "zwmyBbffFzNM",
        "outputId": "b6170958-e3a7-45bc-e809-4af630ebc6f4"
      },
      "execution_count": 9,
      "outputs": [
        {
          "output_type": "stream",
          "name": "stdout",
          "text": [
            "Target word: bank\n",
            "Best sense: depository_financial_institution.n.01 - Definition: a financial institution that accepts deposits and channels the money into lending activities\n"
          ]
        }
      ]
    }
  ]
}